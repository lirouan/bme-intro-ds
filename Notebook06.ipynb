{
  "cells": [
    {
      "cell_type": "markdown",
      "metadata": {
        "id": "aLzIWpl8i5ys"
      },
      "source": [
        "# Prediction of Heart Failure Mortality [100 points total]\n",
        "\n",
        "\n",
        "**Heart Failure** (HF) is a life-threating contition in which the heart fails to perfuse the body with blood.  In this prelab, we will predict patients' mortaility from this condition from clinical data using **Logistic Regression**.  Unlike linear regression, logistic regression is used to predict binary or categorical outcomes.  The ability to predict mortality from past cases can help clinitians make better treatment predictions in the future."
      ]
    },
    {
      "cell_type": "markdown",
      "metadata": {
        "id": "3qwiXP01ZgHr"
      },
      "source": [
        "### 1) Load Data [5 points]\n",
        "We have given you a spreadsheet file `hf.xlsx` containing clinical data from nearly 300 patients.  The data comes from the [UC Irvine Machine Learning Repository](https://archive.ics.uci.edu/dataset/519/heart+failure+clinical+records). Each row represents a single patient and each column represents a clinical feature.  Decriptions of each feature can be found in the orignal paper [Ahmad *et al.* 2017](https://doi.org/10.1371/journal.pone.0181001) as well as [Chicco and Jurman 2020](https://doi.org/10.1186/s12911-020-1023-5). The last column, labeled **death_event** indicates whether the condition was fatal for the patient. We have given you the function `readxlsx` to read the spreadsheat into a **pandas** `DataFrame`.\n",
        "\n",
        "* Use `pd.read_excel` the data into a dataframe named **`df`**.  Then display the first 10 rows"
      ]
    },
    {
      "cell_type": "code",
      "execution_count": 4,
      "metadata": {
        "id": "B3cBCXKpi7Cb"
      },
      "outputs": [
        {
          "data": {
            "text/html": [
              "<div>\n",
              "<style scoped>\n",
              "    .dataframe tbody tr th:only-of-type {\n",
              "        vertical-align: middle;\n",
              "    }\n",
              "\n",
              "    .dataframe tbody tr th {\n",
              "        vertical-align: top;\n",
              "    }\n",
              "\n",
              "    .dataframe thead th {\n",
              "        text-align: right;\n",
              "    }\n",
              "</style>\n",
              "<table border=\"1\" class=\"dataframe\">\n",
              "  <thead>\n",
              "    <tr style=\"text-align: right;\">\n",
              "      <th></th>\n",
              "      <th>age</th>\n",
              "      <th>anaemia</th>\n",
              "      <th>creatinine_phosphokinase</th>\n",
              "      <th>diabetes</th>\n",
              "      <th>ejection_fraction</th>\n",
              "      <th>high_blood_pressure</th>\n",
              "      <th>platelets</th>\n",
              "      <th>serum_creatinine</th>\n",
              "      <th>serum_sodium</th>\n",
              "      <th>sex</th>\n",
              "      <th>smoking</th>\n",
              "      <th>time</th>\n",
              "      <th>death_event</th>\n",
              "    </tr>\n",
              "  </thead>\n",
              "  <tbody>\n",
              "    <tr>\n",
              "      <th>0</th>\n",
              "      <td>75.0</td>\n",
              "      <td>0</td>\n",
              "      <td>582</td>\n",
              "      <td>0</td>\n",
              "      <td>20</td>\n",
              "      <td>1</td>\n",
              "      <td>265000.00</td>\n",
              "      <td>1.9</td>\n",
              "      <td>130</td>\n",
              "      <td>1</td>\n",
              "      <td>0</td>\n",
              "      <td>4</td>\n",
              "      <td>1</td>\n",
              "    </tr>\n",
              "    <tr>\n",
              "      <th>1</th>\n",
              "      <td>55.0</td>\n",
              "      <td>0</td>\n",
              "      <td>7861</td>\n",
              "      <td>0</td>\n",
              "      <td>38</td>\n",
              "      <td>0</td>\n",
              "      <td>263358.03</td>\n",
              "      <td>1.1</td>\n",
              "      <td>136</td>\n",
              "      <td>1</td>\n",
              "      <td>0</td>\n",
              "      <td>6</td>\n",
              "      <td>1</td>\n",
              "    </tr>\n",
              "    <tr>\n",
              "      <th>2</th>\n",
              "      <td>65.0</td>\n",
              "      <td>0</td>\n",
              "      <td>146</td>\n",
              "      <td>0</td>\n",
              "      <td>20</td>\n",
              "      <td>0</td>\n",
              "      <td>162000.00</td>\n",
              "      <td>1.3</td>\n",
              "      <td>129</td>\n",
              "      <td>1</td>\n",
              "      <td>1</td>\n",
              "      <td>7</td>\n",
              "      <td>1</td>\n",
              "    </tr>\n",
              "    <tr>\n",
              "      <th>3</th>\n",
              "      <td>50.0</td>\n",
              "      <td>1</td>\n",
              "      <td>111</td>\n",
              "      <td>0</td>\n",
              "      <td>20</td>\n",
              "      <td>0</td>\n",
              "      <td>210000.00</td>\n",
              "      <td>1.9</td>\n",
              "      <td>137</td>\n",
              "      <td>1</td>\n",
              "      <td>0</td>\n",
              "      <td>7</td>\n",
              "      <td>1</td>\n",
              "    </tr>\n",
              "    <tr>\n",
              "      <th>4</th>\n",
              "      <td>65.0</td>\n",
              "      <td>1</td>\n",
              "      <td>160</td>\n",
              "      <td>1</td>\n",
              "      <td>20</td>\n",
              "      <td>0</td>\n",
              "      <td>327000.00</td>\n",
              "      <td>2.7</td>\n",
              "      <td>116</td>\n",
              "      <td>0</td>\n",
              "      <td>0</td>\n",
              "      <td>8</td>\n",
              "      <td>1</td>\n",
              "    </tr>\n",
              "    <tr>\n",
              "      <th>5</th>\n",
              "      <td>90.0</td>\n",
              "      <td>1</td>\n",
              "      <td>47</td>\n",
              "      <td>0</td>\n",
              "      <td>40</td>\n",
              "      <td>1</td>\n",
              "      <td>204000.00</td>\n",
              "      <td>2.1</td>\n",
              "      <td>132</td>\n",
              "      <td>1</td>\n",
              "      <td>1</td>\n",
              "      <td>8</td>\n",
              "      <td>1</td>\n",
              "    </tr>\n",
              "    <tr>\n",
              "      <th>6</th>\n",
              "      <td>75.0</td>\n",
              "      <td>1</td>\n",
              "      <td>246</td>\n",
              "      <td>0</td>\n",
              "      <td>15</td>\n",
              "      <td>0</td>\n",
              "      <td>127000.00</td>\n",
              "      <td>1.2</td>\n",
              "      <td>137</td>\n",
              "      <td>1</td>\n",
              "      <td>0</td>\n",
              "      <td>10</td>\n",
              "      <td>1</td>\n",
              "    </tr>\n",
              "    <tr>\n",
              "      <th>7</th>\n",
              "      <td>60.0</td>\n",
              "      <td>1</td>\n",
              "      <td>315</td>\n",
              "      <td>1</td>\n",
              "      <td>60</td>\n",
              "      <td>0</td>\n",
              "      <td>454000.00</td>\n",
              "      <td>1.1</td>\n",
              "      <td>131</td>\n",
              "      <td>1</td>\n",
              "      <td>1</td>\n",
              "      <td>10</td>\n",
              "      <td>1</td>\n",
              "    </tr>\n",
              "    <tr>\n",
              "      <th>8</th>\n",
              "      <td>65.0</td>\n",
              "      <td>0</td>\n",
              "      <td>157</td>\n",
              "      <td>0</td>\n",
              "      <td>65</td>\n",
              "      <td>0</td>\n",
              "      <td>263358.03</td>\n",
              "      <td>1.5</td>\n",
              "      <td>138</td>\n",
              "      <td>0</td>\n",
              "      <td>0</td>\n",
              "      <td>10</td>\n",
              "      <td>1</td>\n",
              "    </tr>\n",
              "    <tr>\n",
              "      <th>9</th>\n",
              "      <td>80.0</td>\n",
              "      <td>1</td>\n",
              "      <td>123</td>\n",
              "      <td>0</td>\n",
              "      <td>35</td>\n",
              "      <td>1</td>\n",
              "      <td>388000.00</td>\n",
              "      <td>9.4</td>\n",
              "      <td>133</td>\n",
              "      <td>1</td>\n",
              "      <td>1</td>\n",
              "      <td>10</td>\n",
              "      <td>1</td>\n",
              "    </tr>\n",
              "  </tbody>\n",
              "</table>\n",
              "</div>"
            ],
            "text/plain": [
              "    age  anaemia  creatinine_phosphokinase  diabetes  ejection_fraction  \\\n",
              "0  75.0        0                       582         0                 20   \n",
              "1  55.0        0                      7861         0                 38   \n",
              "2  65.0        0                       146         0                 20   \n",
              "3  50.0        1                       111         0                 20   \n",
              "4  65.0        1                       160         1                 20   \n",
              "5  90.0        1                        47         0                 40   \n",
              "6  75.0        1                       246         0                 15   \n",
              "7  60.0        1                       315         1                 60   \n",
              "8  65.0        0                       157         0                 65   \n",
              "9  80.0        1                       123         0                 35   \n",
              "\n",
              "   high_blood_pressure  platelets  serum_creatinine  serum_sodium  sex  \\\n",
              "0                    1  265000.00               1.9           130    1   \n",
              "1                    0  263358.03               1.1           136    1   \n",
              "2                    0  162000.00               1.3           129    1   \n",
              "3                    0  210000.00               1.9           137    1   \n",
              "4                    0  327000.00               2.7           116    0   \n",
              "5                    1  204000.00               2.1           132    1   \n",
              "6                    0  127000.00               1.2           137    1   \n",
              "7                    0  454000.00               1.1           131    1   \n",
              "8                    0  263358.03               1.5           138    0   \n",
              "9                    1  388000.00               9.4           133    1   \n",
              "\n",
              "   smoking  time  death_event  \n",
              "0        0     4            1  \n",
              "1        0     6            1  \n",
              "2        1     7            1  \n",
              "3        0     7            1  \n",
              "4        0     8            1  \n",
              "5        1     8            1  \n",
              "6        0    10            1  \n",
              "7        1    10            1  \n",
              "8        0    10            1  \n",
              "9        1    10            1  "
            ]
          },
          "execution_count": 4,
          "metadata": {},
          "output_type": "execute_result"
        }
      ],
      "source": [
        "import pandas as pd\n",
        "import numpy as np\n",
        "import matplotlib.pyplot as plt\n",
        "\n",
        "pd.options.display.max_columns = None # Tell pandas to display all columns\n",
        "\n",
        "try:\n",
        "    import os\n",
        "    from google.colab import drive\n",
        "    drive.mount(\"/content/drive/\")\n",
        "    os.chdir(\"/content/drive/My Drive/\")\n",
        "except:\n",
        "    pass\n",
        "\n",
        "\"\"\"\n",
        "Write your code here\n",
        "\"\"\"\n",
        "df = pd.read_excel(\"hf.xlsx\")\n",
        "df.head(10)\n"
      ]
    },
    {
      "cell_type": "markdown",
      "metadata": {
        "id": "k0ExwPKWCOIs"
      },
      "source": [
        "### 2) Data Cleaning [10 points]\n",
        " * In our dataset the **`time`** column represents the number of days after diagnosis that the patient followed up with a physician. Since this is not a clinical measure, remove this column from the data frame.  Then display the first 10 rows of the updated data frame."
      ]
    },
    {
      "cell_type": "code",
      "execution_count": null,
      "metadata": {
        "id": "adbRzmAxB5Br"
      },
      "outputs": [],
      "source": [
        "\"\"\"\n",
        "Write your code here\n",
        "\"\"\"\n",
        "\n",
        "# remove the time column\n"
      ]
    },
    {
      "cell_type": "markdown",
      "metadata": {
        "id": "uw0LCwS-AOLz"
      },
      "source": [
        "### 3) Specify Features and Target [10 points]\n",
        " * Define **`X`** as a dataframe of consisting of all columns except the last one.  These will be our features [4 points].  \n",
        " * Then define target **`y`** as the last column containing mortality data [3 points].\n",
        " * Display the shape of your original dataframe `df` followed by `X` and `y` to verify that you did this correctly [3 points]."
      ]
    },
    {
      "cell_type": "code",
      "execution_count": null,
      "metadata": {
        "id": "5aoIJbcnGB-P"
      },
      "outputs": [],
      "source": [
        "\"\"\"\n",
        "Write your code here\n",
        "\"\"\""
      ]
    },
    {
      "cell_type": "markdown",
      "metadata": {
        "id": "BVnEbnsfvwTM"
      },
      "source": [
        "### 4) Data Exploration [15 points]\n",
        "\n",
        "We can look at the relationships clinical features to get a general idea of how features relate to each other. The titles of the columns represent the clinical features.  \n",
        "  * The classes are unbalanced as there are fewer fatal cases than non-fatal ones. Report the percentage of cases that were fatal rounded to 1 decimal places [5 points].\n",
        "  * Plot a bar graph of the correlations of each feature with the target [10 points]"
      ]
    },
    {
      "cell_type": "code",
      "execution_count": null,
      "metadata": {
        "id": "G_zgxGuLJD4d"
      },
      "outputs": [],
      "source": [
        "\"\"\"\n",
        "Write your code here\n",
        "\"\"\""
      ]
    },
    {
      "cell_type": "markdown",
      "metadata": {
        "id": "XalXnmBjiJWg"
      },
      "source": [
        "### 5) Standardization [10 points]\n",
        "\n",
        "Numerical columns in **`X`** in have very different magnitudes. When training the a model, columns with larger magnitudes can dominate the learning process and bias the model towards those features. Therefore, **standardization** of features is needed to produce a less biased model. After standardizing the columns, values will be transformed, and each column would have **zero mean** (mean or average = 0) and **unit variance** (variance = 1).  This is equivelant to converting each features values to it's corresponding **z-score**.\n",
        "\n",
        "* Use sklearn's `StandardScaler` to standardize these columns. Then display the first 10 rows of the results of standardization."
      ]
    },
    {
      "cell_type": "code",
      "execution_count": null,
      "metadata": {
        "id": "2Xdrly_etVum"
      },
      "outputs": [],
      "source": [
        "from sklearn.preprocessing import StandardScaler\n",
        "\n",
        "\"\"\"\n",
        "Write your code here\n",
        "\"\"\""
      ]
    },
    {
      "cell_type": "markdown",
      "metadata": {
        "id": "v6iwOKLeyeDK"
      },
      "source": [
        "### 6) Train-Test Split [5 points]\n",
        "\n",
        "Now, let's perform **train-test** split on the data.\n",
        "\n",
        "\n",
        "* Use **`train_test_split`** to perform a train-test split on `X` and `y`. Set the `test_size` as 0.5. Since the diagnostic class is unbalanced, we reccomend that you use the **`stratify`** option to ensure that fatal cases are evenly distrubuted amoung the train and test cases.\n"
      ]
    },
    {
      "cell_type": "code",
      "execution_count": null,
      "metadata": {
        "id": "1Ci1paG9zyI4"
      },
      "outputs": [],
      "source": [
        "from sklearn.model_selection import train_test_split\n",
        "\"\"\"\n",
        "Write your code here\n",
        "\"\"\""
      ]
    },
    {
      "cell_type": "markdown",
      "metadata": {
        "id": "WoRDGQzh0Bu7"
      },
      "source": [
        "### 7) Train model [10 points]\n",
        "\n",
        "We are ready now to train a our model.  \n",
        "* We have imported `LogisticRegression` from `sklearn.linear_model`. Train a logistic regression model on the **training** data [5 points].  \n",
        "* Then report the accuracy of this model on the **testing** data using `accuracy_score` [5 points]."
      ]
    },
    {
      "cell_type": "code",
      "execution_count": null,
      "metadata": {
        "id": "E6PlWiCRz_Ni"
      },
      "outputs": [],
      "source": [
        "from sklearn.linear_model import LogisticRegression\n",
        "from sklearn.metrics import accuracy_score\n",
        "\"\"\"\n",
        "Write your code here\n",
        "\"\"\""
      ]
    },
    {
      "cell_type": "markdown",
      "metadata": {
        "id": "Ckn9AX9RgwBE"
      },
      "source": [
        "### 8) Refine Hyperparameter [15 points]\n",
        "A **hyperparameter** is a constant value that is specified before optimzation.\n",
        "One of the primary hyperparameters is the regularization constant $\\lambda = \\frac{1}{C}$. By default `LogisticRegression` uses a default value of $C=1$\n",
        "\n",
        " * Refine this model by estimating an optimal value for $C = \\frac{1}{\\lambda}$ using **k-fold Cross Validation** on the **training data**.  The funcion [StratifiedKFold](https://scikit-learn.org/stable/modules/generated/sklearn.model_selection.StratifiedKFold.html) from `sklearn.model_selection` splits the training data set into smaller class stratified chunks that can be fed into the model. Use $k=5$ splits (folds) and several values for $C \\in [0.001, 1000]$.  Calculate the mean accuracy for each $C$ value across the folds [10 points].\n",
        " * The best $C$ value is the one with the highest accuracy.  Display this value [5 points]"
      ]
    },
    {
      "cell_type": "code",
      "execution_count": null,
      "metadata": {
        "id": "CAdUgPJD3CuL"
      },
      "outputs": [],
      "source": [
        "from sklearn.model_selection import StratifiedKFold\n",
        "\"\"\"\n",
        "Write your code here\n",
        "\"\"\""
      ]
    },
    {
      "cell_type": "markdown",
      "metadata": {
        "id": "PP48SZ9MD0-S"
      },
      "source": [
        "### 9) Retrain Model [10 points]\n",
        " * Retrain your model on **training** data using your best regularization hyperparameter $C$ from the previous step [5 points]\n",
        " * Then report the accuracy of this model on the **testing** data using `accuracy_score` [5 points]."
      ]
    },
    {
      "cell_type": "code",
      "execution_count": null,
      "metadata": {
        "id": "IGLfGFYkDt8j"
      },
      "outputs": [],
      "source": [
        "\"\"\"\n",
        "Write your code here\n",
        "\"\"\""
      ]
    },
    {
      "cell_type": "markdown",
      "metadata": {
        "id": "0Kx9FgwnRSaA"
      },
      "source": [
        "### 10) Logistic Regression Coefficients [10 points]\n",
        "The coefficients vector $\\hat \\beta$ from the model tells us the prediction of how feature in $X$ relates to the target $y$. If $\\hat \\beta_k > 0$  then the $k$th feature is predicted to increase the likelyhood of heart failure while $\\hat \\beta_k < 0$ decreases the likehood.\n",
        " * Use the model's `.coef[0]` attribute to make a bar graph of the coefficient values for each feature"
      ]
    },
    {
      "cell_type": "code",
      "execution_count": null,
      "metadata": {
        "id": "mgpeYcAGOsYw"
      },
      "outputs": [],
      "source": [
        "\"\"\"\n",
        "Write your code here\n",
        "\"\"\""
      ]
    }
  ],
  "metadata": {
    "colab": {
      "provenance": []
    },
    "kernelspec": {
      "display_name": "env",
      "language": "python",
      "name": "python3"
    },
    "language_info": {
      "codemirror_mode": {
        "name": "ipython",
        "version": 3
      },
      "file_extension": ".py",
      "mimetype": "text/x-python",
      "name": "python",
      "nbconvert_exporter": "python",
      "pygments_lexer": "ipython3",
      "version": "3.9.6"
    }
  },
  "nbformat": 4,
  "nbformat_minor": 0
}
