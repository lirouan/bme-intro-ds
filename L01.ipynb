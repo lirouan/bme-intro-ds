{
  "cells": [
    {
      "cell_type": "markdown",
      "metadata": {
        "id": "dTOq7iH5d0rc"
      },
      "source": [
        "# Lecture 01: Introduction to Jupyter Notebooks [100 points total]\n",
        "Jupyter is an enviroment in which code in the [Python programming language](https://en.wikipedia.org/wiki/Python_(programming_language)) can be combined with text (Using the *Markdown* markup language).  Jupyter notebooks are divided into editable cells.  You are currently reading a *text* cell.\n",
        "\n",
        "**Double-click on this cell and enter your name below**\n",
        "Joanne Li"
      ]
    },
    {
      "cell_type": "markdown",
      "metadata": {
        "id": "hhw9Tp_mnbgn"
      },
      "source": [
        "# Fonts\n",
        "In text cells, headers are denoted by a \\#\n",
        "\n",
        "You can *italicize* text by by **surrounding** it with like \\*this\\*.\n",
        "You can **bold** text by **surrounding** it like \\*\\*this\\*\\*.\n",
        "\n",
        "\n",
        "Try it by **making every occurance of the word \"surrounding\" bold**"
      ]
    },
    {
      "cell_type": "markdown",
      "metadata": {
        "id": "bSLN0duumfBI"
      },
      "source": [
        "# Bulleted lists\n",
        "Bulleted lists are denoted by a * for each item.  **Add a few items to the list below**.\n",
        "\n",
        "My favorite foods are\n",
        "* Pizza\n",
        "* Ice Cream\n",
        "* Pasta\n",
        "* Crawfish\n",
        "* Steak"
      ]
    },
    {
      "cell_type": "markdown",
      "metadata": {
        "id": "0B51XV4XoV0E"
      },
      "source": [
        "# Equations\n",
        "You can write equations using LaTeX.  A tutorial can be found [here](https://personal.math.ubc.ca/~pwalls/math-python/jupyter/latex/). Surround text with dollar signs to implement an inline equation.  For example the circumference of a circle is $c = 2 \\pi r$.  Surround text with double dollar signs to display equation below text.  For example $$a^2+b^2 = c^2$$.\n",
        "\n",
        "**Write the equation for the area of a circle below**\n",
        "$$A = \\pi r^2$$"
      ]
    },
    {
      "cell_type": "markdown",
      "metadata": {
        "id": "cOOWOKHtrIgq"
      },
      "source": [
        "# Python\n",
        "Finally we get to run some Python code.  In Python the `print` function is used to display text.  Note that the text must be in either double \" or single ' quotes.  Let's display the words `Hello world` in the code cell below"
      ]
    },
    {
      "cell_type": "code",
      "execution_count": 1,
      "metadata": {
        "id": "xz9mHnKWs1J8"
      },
      "outputs": [
        {
          "name": "stdout",
          "output_type": "stream",
          "text": [
            "Hello world\n"
          ]
        }
      ],
      "source": [
        "\"\"\"\n",
        "Example: Say hello\n",
        "\"\"\"\n",
        "print(\"Hello world\")"
      ]
    },
    {
      "cell_type": "markdown",
      "metadata": {
        "id": "2Mno-eNJs-Df"
      },
      "source": [
        "# Variables\n",
        "Varibles are used to store values.  For example let's add two numbers and display the result"
      ]
    },
    {
      "cell_type": "code",
      "execution_count": 10,
      "metadata": {
        "id": "WLrg7tLptaro"
      },
      "outputs": [
        {
          "name": "stdout",
          "output_type": "stream",
          "text": [
            "17\n"
          ]
        }
      ],
      "source": [
        "\"\"\"\n",
        "Example: Addition\n",
        "\"\"\"\n",
        "a = 10\n",
        "b = 7\n",
        "print(a + b)"
      ]
    },
    {
      "cell_type": "markdown",
      "metadata": {
        "id": "7U53KbR_tn5Q"
      },
      "source": [
        "Variables that contain text are refered to as **strings**.  Let's say hello to ourselves"
      ]
    },
    {
      "cell_type": "code",
      "execution_count": 12,
      "metadata": {
        "id": "3l0ca7xAt4gY"
      },
      "outputs": [
        {
          "name": "stdout",
          "output_type": "stream",
          "text": [
            "Hello Joanne\n"
          ]
        }
      ],
      "source": [
        "\"\"\"\n",
        "Example: String Varibles\n",
        "\"\"\"\n",
        "name = \"Joanne\"\n",
        "print(\"Hello\", name)"
      ]
    },
    {
      "cell_type": "markdown",
      "metadata": {
        "id": "mlGi9Y5HwrpQ"
      },
      "source": [
        "You can **prompt** the user to enter their name using the `input` function."
      ]
    },
    {
      "cell_type": "code",
      "execution_count": null,
      "metadata": {
        "id": "3zR63I8bx2-d"
      },
      "outputs": [
        {
          "name": "stdout",
          "output_type": "stream",
          "text": [
            "Hello Joanne\n"
          ]
        }
      ],
      "source": [
        "\"\"\"\n",
        "Example: Prompt for input\n",
        "\"\"\"\n",
        "name = input(\"Enter your name: \")\n",
        "print(\"Hello\", name)"
      ]
    },
    {
      "cell_type": "markdown",
      "metadata": {
        "id": "wRfcmG9ez-FT"
      },
      "source": [
        "# Operators\n",
        "Basic operators are\n",
        "* `+` for addition\n",
        "* `-` for subraction\n",
        "* `*` for multiplication\n",
        "* `/` for division\n",
        "\n",
        "### Example\n",
        "Write a program that prompts the user for the temperature in degrees F and displays the temperature in degrees C.  Note that $$C = \\frac{5}{9}(F - 32)$$"
      ]
    },
    {
      "cell_type": "code",
      "execution_count": null,
      "metadata": {
        "id": "gmLJpJwe0yej"
      },
      "outputs": [],
      "source": [
        "\"\"\"\n",
        "Example: F to C\n",
        "\"\"\"\n",
        "\n",
        "f = float(input(\"Enter temperature in Fahrenheit: \"))\n",
        "c = 5.0/9.0 * (f - 32)"
      ]
    },
    {
      "cell_type": "markdown",
      "metadata": {
        "id": "NLCb6cTQ2OzN"
      },
      "source": [
        "### Activity 1 [20 points]\n",
        "There are 1.61 kilometers in a mile\n",
        "* Prompt the user for a number of miles\n",
        "* Display the corresponding number of kilometers.  \n",
        "\n",
        "Your output should look like\n",
        "```\n",
        "Enter miles: 10.5\n",
        "This is 16.905 kilometers.\n",
        "```\n",
        "\n"
      ]
    },
    {
      "cell_type": "code",
      "execution_count": 9,
      "metadata": {
        "id": "WGM3p-Hq3GrZ"
      },
      "outputs": [
        {
          "name": "stdout",
          "output_type": "stream",
          "text": [
            "This is 3.703 kilometers.\n"
          ]
        }
      ],
      "source": [
        "\"\"\"\n",
        "Activity: Miles to Kilometers\n",
        "\"\"\"\n",
        "\n",
        "miles = float(input(\"Enter miles: \"))\n",
        "km = miles * 1.61\n",
        "\n",
        "print(f\"This is {km} kilometers.\")"
      ]
    },
    {
      "cell_type": "markdown",
      "metadata": {
        "id": "Zza-qsKu4i_2"
      },
      "source": [
        "# Math module\n",
        "Modules add additonal functionality to Python.  You can import the math module using `import math` to use `math.sqrt` and `math.pi`.  Use `**` to raise value to a power.  You can use **f-strings** for formatted printing of variable."
      ]
    },
    {
      "cell_type": "code",
      "execution_count": null,
      "metadata": {
        "id": "TGifa9x25aP_"
      },
      "outputs": [
        {
          "name": "stdout",
          "output_type": "stream",
          "text": [
            "The area is 31415.93\n"
          ]
        }
      ],
      "source": [
        "\"\"\"\n",
        "Example: Circle Area\n",
        "\"\"\"\n",
        "import math\n",
        "# given radius, compute area\n",
        "\n",
        "r = float(input(\"Enter radius: \"))\n",
        "area = math.pi * r**2\n",
        "print(f\"Circle area is {area:.2f}\")"
      ]
    },
    {
      "cell_type": "code",
      "execution_count": null,
      "metadata": {
        "id": "JFTftz9Y7B-n"
      },
      "outputs": [
        {
          "name": "stdout",
          "output_type": "stream",
          "text": [
            "Square area is 9.0\n"
          ]
        }
      ],
      "source": [
        "\"\"\"\n",
        "Example: Square\n",
        "\"\"\"\n",
        "# given square area, compute side length\n",
        "import math\n",
        "\n",
        "area = float(input(\"Enter square area: \"))\n",
        "length = math.sqrt(area)\n",
        "print(f\"The side length is {length:.1f}\")"
      ]
    },
    {
      "cell_type": "markdown",
      "metadata": {
        "id": "ADgxI6Cv7wXz"
      },
      "source": [
        "### Activity 2 [20 points]\n",
        "The distance between two points with coordinates $(x_1, y_1)$ and $(x_2, y_2)$ is $$D = \\sqrt{(x_1 - x_2)^2 + (y_1 - y_2)^2}$$\n",
        " * Prompt the user for $x_1$, $y_1$, $x_2$ and $y_2$ [8 points]\n",
        " * Then display the distance [8 points]\n",
        " * Make sure result is rounded to 2 decimal places [2 points]\n",
        "```\n",
        "Enter x1: 0.75\n",
        "Enter y1: 2\n",
        "Enter x2: 1.2\n",
        "Enter y2: 3\n",
        "Distance is 1.10\n",
        "```\n"
      ]
    },
    {
      "cell_type": "code",
      "execution_count": 20,
      "metadata": {
        "id": "T1_KvkIC84O0"
      },
      "outputs": [
        {
          "name": "stdout",
          "output_type": "stream",
          "text": [
            "Distance is 1.10\n"
          ]
        }
      ],
      "source": [
        "\"\"\"\n",
        "Activity: Distance Between two points\n",
        "\"\"\"\n",
        "import math\n",
        "\n",
        "x1 = float(input(\"Enter x1: \"))\n",
        "y1 = float(input(\"Enter y1: \"))\n",
        "x2 = float(input(\"Enter x2: \"))\n",
        "y2 = float(input(\"Enter y2: \"))\n",
        "\n",
        "dist = math.sqrt((x1 - x2)**2 + (y1 - y2)**2)\n",
        "print(f\"Distance is {dist:.2f}\")"
      ]
    },
    {
      "cell_type": "markdown",
      "metadata": {
        "id": "eVio09UOBnCV"
      },
      "source": [
        "# Additonal Operators\n",
        "In Python the `//` is used to perform integer (whole number) division while `%`, often refered to as the *modulus operator* is used to find the remainder"
      ]
    },
    {
      "cell_type": "code",
      "execution_count": 25,
      "metadata": {
        "id": "ebhU_uY6Bub8"
      },
      "outputs": [
        {
          "name": "stdout",
          "output_type": "stream",
          "text": [
            "a / b = 1.6666666666666667\n",
            "a // b = 1\n",
            "a % b = 2\n"
          ]
        }
      ],
      "source": [
        "\"\"\"\n",
        "Example: Division and Modulus\n",
        "\"\"\"\n",
        "\n",
        "a = 5\n",
        "b = 3\n",
        "print(\"a / b =\", a / b)    # Division\n",
        "print(\"a // b =\", a // b)  # Integer division\n",
        "print(\"a % b =\", a % b)    # Modulus"
      ]
    },
    {
      "cell_type": "markdown",
      "metadata": {
        "id": "AVkn4pCoigw_"
      },
      "source": [
        "# Decisions\n",
        "It is often necessary for a program to make a decision.  In Python this is is done using an **`if`** statement followed by optinal else if **`elif`** statements an finally an optional **`else`** statement.\n",
        "\n",
        "### Example\n",
        "Write a program that prompts the user for an interger and states you if it is even, odd or not an integer"
      ]
    },
    {
      "cell_type": "code",
      "execution_count": 32,
      "metadata": {
        "id": "iFHNwM7Finc2"
      },
      "outputs": [
        {
          "name": "stdout",
          "output_type": "stream",
          "text": [
            "This is not an integer\n"
          ]
        }
      ],
      "source": [
        "\"\"\"\n",
        "Example: Even or Odd\n",
        "\"\"\"\n",
        "\n",
        "num = float(input(\"Enter an number: \"))\n",
        "if num % 2 == 0:\n",
        "    print(f\"{num} is even\")\n",
        "elif num % 2 == 1:\n",
        "    print(f\"{num} is odd\")\n",
        "else:\n",
        "    print(\"This is not an integer\")"
      ]
    },
    {
      "cell_type": "markdown",
      "metadata": {
        "id": "-B6jcistyZp4"
      },
      "source": [
        "### Example\n",
        "Use **or** operator or **and** operator to combine multiple conditions in a decision"
      ]
    },
    {
      "cell_type": "code",
      "execution_count": 33,
      "metadata": {
        "id": "kP_wxAGjyk9G"
      },
      "outputs": [
        {
          "name": "stdout",
          "output_type": "stream",
          "text": [
            "I can't believe you don't like pizza!\n"
          ]
        }
      ],
      "source": [
        "\"\"\"\n",
        "Example: Pizza\n",
        "\"\"\"\n",
        "\n",
        "answer = input(\"Do you like Pizza?\").lower()\n",
        "if answer == \"y\" or answer == \"yes\" or answer == \"yeah\":\n",
        "    print(\"Great! I like pizza too!\")\n",
        "else:\n",
        "    print(\"I can't believe you don't like pizza!\")"
      ]
    },
    {
      "cell_type": "markdown",
      "metadata": {
        "id": "-T4EEo3vimq1"
      },
      "source": [
        "### Activity 3 [20 points]\n",
        "In most cases a leap year occurs in years that are divisible by 4 but an exception occurs in years divisible by 100. A year divisible by 100 is a leap year only if it is also divisible by 400.  For example 1600 and 2000 were leap years but 1700, 1800 and 1900 were not.\n",
        "\n",
        " * Prompts the user for a year [5 points]\n",
        " * Then using decision statement to determine if the year is a leap year [15 points]\n",
        "\n",
        "Your output should look like the following.\n",
        "\n",
        "```\n",
        "Enter a year: 2021\n",
        "2021 is not a leap year\n",
        "```\n",
        "```\n",
        "Enter a year: 2012\n",
        "2012 is a leap year\n",
        "```\n",
        "```\n",
        "Enter a year: 1900\n",
        "1900 is not a leap year\n",
        "```"
      ]
    },
    {
      "cell_type": "code",
      "execution_count": null,
      "metadata": {
        "id": "FqTA8yici3QW"
      },
      "outputs": [
        {
          "name": "stdout",
          "output_type": "stream",
          "text": [
            "1900 is not a leap year\n"
          ]
        }
      ],
      "source": [
        "\"\"\"\n",
        "Activity: Leap Year\n",
        "\"\"\"\n",
        "# lmfao what does it mean by a year divisible by 100 is a leap year only if it is also divisible by 400\n",
        "# aren't all years divisible by 400 also divisible by 100?\n",
        "\n",
        "year = int(input(\"Enter a year: \"))\n",
        "if (year % 4 == 0 and year % 100 != 0) or (year % 400 == 0):\n",
        "    print(f\"{year} is a leap year\")\n",
        "else:\n",
        "    print(f\"{year} is not a leap year\")"
      ]
    },
    {
      "cell_type": "markdown",
      "metadata": {
        "id": "BHne0PwyjdYb"
      },
      "source": [
        "# Loops\n",
        "In programming, loops are used to repeat a tasks. **`for`** loops are used with iterables objects such as **`range`** which generates a range of numbers.  By default range always starts from 0 and excludes the last number."
      ]
    },
    {
      "cell_type": "code",
      "execution_count": 34,
      "metadata": {
        "id": "GCY1JA7RjggM"
      },
      "outputs": [
        {
          "name": "stdout",
          "output_type": "stream",
          "text": [
            "1\n",
            "2\n",
            "3\n",
            "4\n",
            "5\n",
            "6\n",
            "7\n",
            "8\n",
            "9\n",
            "10\n"
          ]
        }
      ],
      "source": [
        "\"\"\"\n",
        "Example: Count to 10\n",
        "\"\"\"\n",
        "\n",
        "for i in range(1, 11):\n",
        "    print(i)"
      ]
    },
    {
      "cell_type": "code",
      "execution_count": 35,
      "metadata": {
        "id": "M2XQrJEwjvqW"
      },
      "outputs": [
        {
          "name": "stdout",
          "output_type": "stream",
          "text": [
            "1\n",
            "3\n",
            "5\n",
            "7\n",
            "9\n"
          ]
        }
      ],
      "source": [
        "\"\"\"\n",
        "Example: Count starting from 1 to 10 by twos\n",
        "\"\"\"\n",
        "\n",
        "for i in range(1, 11, 2):\n",
        "    print(i)"
      ]
    },
    {
      "cell_type": "markdown",
      "metadata": {
        "id": "XCpnFgKLkLkW"
      },
      "source": [
        "### Activity 4 [20 points]\n",
        "* Prompt the user for a start year and an end year [5 points].\n",
        "* Then print all leap years between the start and end year [15 points].  \n",
        "\n",
        "Example output should look like\n",
        "```\n",
        "Enter start year: 2000\n",
        "Enter end year: 2008\n",
        "2000\n",
        "2004\n",
        "2008\n",
        "```\n",
        "```\n",
        "Enter start year: 1895\n",
        "Enter end year: 1905\n",
        "1896\n",
        "1904\n",
        "```"
      ]
    },
    {
      "cell_type": "code",
      "execution_count": 37,
      "metadata": {
        "id": "gEs1EDR5lPfM"
      },
      "outputs": [
        {
          "name": "stdout",
          "output_type": "stream",
          "text": [
            "1896\n",
            "1904\n"
          ]
        }
      ],
      "source": [
        "\"\"\"\n",
        "Example: Leap Loop\n",
        "\"\"\"\n",
        "\n",
        "start_year = int(input(\"Enter start year: \"))\n",
        "end_year = int(input(\"Enter end year: \"))\n",
        "\n",
        "# print all leap years between the start and end year (inclusive)\n",
        "for year in range(start_year, end_year + 1):\n",
        "    if (year % 4 == 0 and year % 100 != 0) or (year % 400 == 0):\n",
        "        print(year)"
      ]
    },
    {
      "cell_type": "markdown",
      "metadata": {
        "id": "uiC08_L4mvZr"
      },
      "source": [
        "# Functions\n",
        "**Functions** are a way to divide complex programs into a modular simpler reusable parts.  Functions are defined using the **`def`** keyword.  The **`return`** statement does two things\n",
        "1. Exits the function\n",
        "2. Returns a value\n"
      ]
    },
    {
      "cell_type": "markdown",
      "metadata": {
        "id": "EK79rCtnm5b2"
      },
      "source": [
        "### Example\n",
        "The factorial of an integer $n$ denoted $n!$ is the product of itself and all natural numbers less than it.   For example $4! = 1 \\cdot 2 \\cdot 3\\cdot 4 = 24$.  By convention $0! = 1$.  Write function **`factorial`** to calculate this"
      ]
    },
    {
      "cell_type": "code",
      "execution_count": 38,
      "metadata": {
        "id": "i3mNH-whm2Y7"
      },
      "outputs": [
        {
          "data": {
            "text/plain": [
              "24"
            ]
          },
          "execution_count": 38,
          "metadata": {},
          "output_type": "execute_result"
        }
      ],
      "source": [
        "\"\"\"\n",
        "Example: Factorial\n",
        "\"\"\"\n",
        "\n",
        "def factorial(n):\n",
        "    result = 1\n",
        "    for i in range(2, n + 1):\n",
        "        result *= i\n",
        "    return result\n",
        "\n",
        "factorial(4)"
      ]
    },
    {
      "cell_type": "markdown",
      "metadata": {
        "id": "L5bmblN7nUXN"
      },
      "source": [
        "# Lists\n",
        "A **list** in Python is an ordered sequence of elements in which each element is called an **item**. Let's define and print a list.  The `append` method is used to add items to the end of the the list.  Lists are indexed using square brackets."
      ]
    },
    {
      "cell_type": "code",
      "execution_count": 43,
      "metadata": {
        "id": "yVyush5mnd20"
      },
      "outputs": [
        {
          "name": "stdout",
          "output_type": "stream",
          "text": [
            "4\n",
            "1\n",
            "cat\n"
          ]
        }
      ],
      "source": [
        "\"\"\"\n",
        "Example\n",
        "\"\"\"\n",
        "\n",
        "L = [1, 2.5, \"dog\", \"cat\"]\n",
        "print(len(L))\n",
        "\n",
        "print(L[0]) # first value\n",
        "print(L[-1]) # last value"
      ]
    },
    {
      "cell_type": "markdown",
      "metadata": {
        "id": "EwSwxo6Zn9y8"
      },
      "source": [
        "We can use loop through items in a list"
      ]
    },
    {
      "cell_type": "code",
      "execution_count": null,
      "metadata": {
        "id": "BB1zSJ1HoEb2"
      },
      "outputs": [],
      "source": [
        "\"\"\"\n",
        "Example\n",
        "\"\"\"\n",
        "\n",
        "for item in L:\n",
        "    print(item)"
      ]
    },
    {
      "cell_type": "markdown",
      "metadata": {
        "id": "SuNzGQunosZi"
      },
      "source": [
        "### Example\n",
        "The lucas sequance always starts with the values 2 and 1.  Subsequent values are the sum of the previous 2 values.\n",
        "\n",
        "> 2, 1, 3, 4, 7, 11, 18 ...\n",
        "\n",
        "Write function `lucas(n)` that returns the first `n` values of this sequence as a list"
      ]
    },
    {
      "cell_type": "code",
      "execution_count": null,
      "metadata": {
        "id": "n4G9ftl8oldj"
      },
      "outputs": [],
      "source": [
        "\"\"\"\n",
        "Example: Lucas sequence\n",
        "\"\"\"\n",
        "\n",
        "def lucas(n):\n",
        "    if n == 0:\n",
        "        return 2\n",
        "    elif n == 1:\n",
        "        return 1\n",
        "    else:\n",
        "        return lucas(n - 1) + lucas(n - 2)"
      ]
    },
    {
      "cell_type": "markdown",
      "metadata": {
        "id": "Rjo3JP8rsDU0"
      },
      "source": [
        "### Activity 5 [10 points]\n",
        "Write a function `leaps(start, end)` that returns a list of all leap years between `start` and `end`.  \n",
        " * Show that `leaps(2000,2008)` returns `[2000, 2004, 2008]` [10 points]\n",
        " * Also show that `leaps(1895,1905)` returns `[1896, 1904]` [10 points]"
      ]
    },
    {
      "cell_type": "code",
      "execution_count": 1,
      "metadata": {
        "id": "kEAE5hSKshRr"
      },
      "outputs": [
        {
          "name": "stdout",
          "output_type": "stream",
          "text": [
            "[2000, 2004, 2008]\n",
            "[1896, 1904]\n"
          ]
        }
      ],
      "source": [
        "\"\"\"\n",
        "Activity: Leap Function\n",
        "\"\"\"\n",
        "\n",
        "def leaps(start, end):\n",
        "\n",
        "    leap_years = []\n",
        "    for year in range(start, end + 1):\n",
        "        if (year % 4 == 0 and year % 100 != 0) or (year % 400 == 0):\n",
        "            leap_years.append(year)\n",
        "    return leap_years\n",
        "\n",
        "print(leaps(2000, 2008))\n",
        "print(leaps(1895, 1905))"
      ]
    }
  ],
  "metadata": {
    "colab": {
      "provenance": []
    },
    "kernelspec": {
      "display_name": "Python 3",
      "name": "python3"
    },
    "language_info": {
      "codemirror_mode": {
        "name": "ipython",
        "version": 3
      },
      "file_extension": ".py",
      "mimetype": "text/x-python",
      "name": "python",
      "nbconvert_exporter": "python",
      "pygments_lexer": "ipython3",
      "version": "3.10.0"
    }
  },
  "nbformat": 4,
  "nbformat_minor": 0
}
